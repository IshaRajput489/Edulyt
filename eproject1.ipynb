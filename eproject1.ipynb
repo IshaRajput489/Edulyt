{
 "cells": [
  {
   "cell_type": "code",
   "execution_count": 1,
   "id": "40c90b65-6fcc-4784-ab64-ad74e3c562e1",
   "metadata": {},
   "outputs": [
    {
     "name": "stdout",
     "output_type": "stream",
     "text": [
      "Collecting xlrd==2.0.1\n",
      "  Downloading xlrd-2.0.1-py2.py3-none-any.whl.metadata (3.4 kB)\n",
      "Downloading xlrd-2.0.1-py2.py3-none-any.whl (96 kB)\n",
      "   ---------------------------------------- 0.0/96.5 kB ? eta -:--:--\n",
      "   ---------------------------------------- 0.0/96.5 kB ? eta -:--:--\n",
      "   ---- ----------------------------------- 10.2/96.5 kB ? eta -:--:--\n",
      "   ------------ --------------------------- 30.7/96.5 kB 640.0 kB/s eta 0:00:01\n",
      "   ---------------- ----------------------- 41.0/96.5 kB 388.9 kB/s eta 0:00:01\n",
      "   ---------------------------------------- 96.5/96.5 kB 690.3 kB/s eta 0:00:00\n",
      "Installing collected packages: xlrd\n",
      "Successfully installed xlrd-2.0.1\n"
     ]
    }
   ],
   "source": [
    "!pip install xlrd==2.0.1\n",
    "import pandas as pd\n",
    "import numpy as np\n",
    "import matplotlib.pyplot as plt\n"
   ]
  },
  {
   "cell_type": "code",
   "execution_count": 3,
   "id": "b1b3c25e-5e12-4af8-b9fb-a9ab2b635af6",
   "metadata": {},
   "outputs": [],
   "source": [
    "# Load the Excel file\n",
    "file_path = 'C:\\\\Users\\\\ishar\\\\Downloads\\\\Data-&-Problem-Statement---Project----1\\\\Credit Banking_Project - 1.xls'\n",
    "customer_acquisition = pd.read_excel(file_path, sheet_name='Customer Acqusition')\n",
    "spend = pd.read_excel(file_path, sheet_name='Spend')\n",
    "repayment = pd.read_excel(file_path, sheet_name='Repayment')"
   ]
  },
  {
   "cell_type": "code",
   "execution_count": 5,
   "id": "61870aea-3e2b-4ee3-85c6-e3d9fc2d3870",
   "metadata": {},
   "outputs": [
    {
     "name": "stdout",
     "output_type": "stream",
     "text": [
      "    Customer  Month    TotalSpend\n",
      "0         A1      1  1.909577e+06\n",
      "1         A1      2  1.445574e+06\n",
      "2         A1      4  5.645069e+05\n",
      "3         A1      5  1.311966e+05\n",
      "4         A1      8  1.293883e+05\n",
      "..       ...    ...           ...\n",
      "573      A95      1  3.478339e+05\n",
      "574      A96      1  3.203635e+05\n",
      "575      A97      1  1.643300e+05\n",
      "576      A98      1  8.748351e+04\n",
      "577      A99      1  4.760204e+05\n",
      "\n",
      "[578 rows x 3 columns]\n"
     ]
    }
   ],
   "source": [
    "# 1. Monthly Spend of Each Customer\n",
    "spend['Month'] = pd.to_datetime(spend['Month'], format='%d-%b-%y')\n",
    "spend['Month_Number'] = spend['Month'].dt.month\n",
    "monthly_spend = spend.groupby(['Customer', 'Month_Number'])['Amount'].sum().reset_index()\n",
    "monthly_spend.columns = ['Customer', 'Month', 'TotalSpend']\n",
    "print(monthly_spend)"
   ]
  },
  {
   "cell_type": "code",
   "execution_count": 7,
   "id": "aeddb841-639c-4ef0-96c6-ed1261a8734a",
   "metadata": {},
   "outputs": [
    {
     "name": "stdout",
     "output_type": "stream",
     "text": [
      "    Customer  Month  TotalRepayment\n",
      "0         A1      1    1.364357e+06\n",
      "1         A1      2    1.390988e+06\n",
      "2         A1      4    3.712733e+05\n",
      "3         A1      7    3.005817e+05\n",
      "4         A1      9    1.083201e+05\n",
      "..       ...    ...             ...\n",
      "553      A95      1    7.510949e+04\n",
      "554      A96      1    1.101390e+05\n",
      "555      A97      1    1.746064e+05\n",
      "556      A98      1    9.780260e+04\n",
      "557      A99      1    3.585899e+05\n",
      "\n",
      "[558 rows x 3 columns]\n"
     ]
    }
   ],
   "source": [
    "# 2. Monthly Repayment of Each Customer\n",
    "repayment['Month'] = pd.to_datetime(repayment['Month'], format='%d-%b-%y')\n",
    "repayment['Month_Number'] = repayment['Month'].dt.month\n",
    "monthly_repayment = repayment.groupby(['Customer', 'Month_Number'])['Amount'].sum().reset_index()\n",
    "monthly_repayment.columns = ['Customer', 'Month', 'TotalRepayment']\n",
    "print(monthly_repayment)"
   ]
  },
  {
   "cell_type": "code",
   "execution_count": 9,
   "id": "ba8c95c9-bf1a-40d0-ade8-993d4f82d7ca",
   "metadata": {},
   "outputs": [
    {
     "name": "stdout",
     "output_type": "stream",
     "text": [
      "  Customer    TotalSpend\n",
      "0      A22  9.637819e+06\n",
      "1      A40  9.595040e+06\n",
      "2      A60  9.317672e+06\n",
      "3      A61  9.148468e+06\n",
      "4      A48  9.056652e+06\n",
      "5      A42  8.665639e+06\n",
      "6      A41  8.583532e+06\n",
      "7      A39  8.526678e+06\n",
      "8      A45  8.498612e+06\n",
      "9      A13  8.042339e+06\n"
     ]
    }
   ],
   "source": [
    "# 3. Highest Paying 10 Customers\n",
    "highest_paying_customers = spend.groupby('Customer')['Amount'].sum().nlargest(10).reset_index()\n",
    "highest_paying_customers.columns = ['Customer', 'TotalSpend']\n",
    "print(highest_paying_customers)"
   ]
  },
  {
   "cell_type": "code",
   "execution_count": 11,
   "id": "9a7bcfad-4a73-4bf6-b764-044bfe05603c",
   "metadata": {},
   "outputs": [
    {
     "name": "stdout",
     "output_type": "stream",
     "text": [
      "         Segment    TotalSpend\n",
      "0           Govt  6.732563e+07\n",
      "1  Normal Salary  1.077071e+08\n",
      "2   Salaried_MNC  6.363949e+07\n",
      "3   Salaried_Pvt  7.170431e+07\n",
      "4  Self Employed  7.097548e+07\n"
     ]
    }
   ],
   "source": [
    "# 4. Segment Spending Analysis\n",
    "segment_spend = spend.merge(customer_acquisition, on='Customer').groupby('Segment')['Amount'].sum().reset_index()\n",
    "segment_spend.columns = ['Segment', 'TotalSpend']\n",
    "print(segment_spend)"
   ]
  },
  {
   "cell_type": "code",
   "execution_count": 13,
   "id": "7f85e818-e874-4664-ab98-08794d497d5b",
   "metadata": {},
   "outputs": [
    {
     "name": "stdout",
     "output_type": "stream",
     "text": [
      "   AgeGroup    TotalSpend\n",
      "0  Under 18  9.343332e+07\n",
      "1     18-30  4.608874e+07\n",
      "2     31-45  4.448938e+07\n",
      "3     46-60  6.324542e+07\n",
      "4  Above 60  1.340952e+08\n"
     ]
    }
   ],
   "source": [
    "# 5. Age Group Spending Analysis\n",
    "customer_acquisition['AgeGroup'] = pd.cut(customer_acquisition['Age'], bins=[0, 18, 30, 45, 60, np.inf], labels=['Under 18', '18-30', '31-45', '46-60', 'Above 60'])\n",
    "age_group_spend = spend.merge(customer_acquisition, on='Customer').groupby('AgeGroup', observed=False)['Amount'].sum().reset_index()\n",
    "age_group_spend.columns = ['AgeGroup', 'TotalSpend']\n",
    "print(age_group_spend)\n"
   ]
  },
  {
   "cell_type": "code",
   "execution_count": 19,
   "id": "94a5d495-2122-482d-916d-b7adcf040333",
   "metadata": {},
   "outputs": [
    {
     "name": "stdout",
     "output_type": "stream",
     "text": [
      "         Segment        Profit\n",
      "0           Govt  3.604456e+07\n",
      "1  Normal Salary  6.727540e+07\n",
      "2   Salaried_MNC  3.413070e+07\n",
      "3   Salaried_Pvt  4.844256e+07\n",
      "4  Self Employed  3.848989e+07\n"
     ]
    }
   ],
   "source": [
    "# 6. Most Profitable Segment\n",
    "profit_per_segment = spend.merge(customer_acquisition, on='Customer').merge(repayment, on=['Customer', 'Month'], how='left', suffixes=('_Spend', '_Repayment'))\n",
    "\n",
    "# Fill NaN values in 'Amount_Repayment' without using inplace\n",
    "profit_per_segment['Amount_Repayment'] = profit_per_segment['Amount_Repayment'].fillna(0)\n",
    "\n",
    "# Calculate Profit\n",
    "profit_per_segment['Profit'] = profit_per_segment['Amount_Spend'] - profit_per_segment['Amount_Repayment']\n",
    "\n",
    "# Group by Segment and calculate the sum of Profit\n",
    "profit_per_segment = profit_per_segment.groupby('Segment')['Profit'].sum().reset_index()\n",
    "\n",
    "print(profit_per_segment)\n"
   ]
  },
  {
   "cell_type": "code",
   "execution_count": 21,
   "id": "17be7aa5-629a-433e-baa9-99f159fe09d2",
   "metadata": {},
   "outputs": [
    {
     "name": "stdout",
     "output_type": "stream",
     "text": [
      "            Type    TotalSpend\n",
      "0     AIR TICKET  3.743547e+07\n",
      "1           AUTO  1.050509e+07\n",
      "2           BIKE  1.315264e+07\n",
      "3     BUS TICKET  2.490590e+07\n",
      "4         CAMERA  4.372101e+07\n",
      "5            CAR  7.018278e+06\n",
      "6        CLOTHES  2.479110e+07\n",
      "7           FOOD  3.829646e+07\n",
      "8      JEWELLERY  2.524795e+07\n",
      "9   MOVIE TICKET  1.878458e+07\n",
      "10         PETRO  5.102258e+07\n",
      "11        RENTAL  2.091467e+07\n",
      "12       SANDALS  6.325017e+06\n",
      "13      SHOPPING  2.741868e+07\n",
      "14  TRAIN TICKET  3.181262e+07\n"
     ]
    }
   ],
   "source": [
    "# 7. Category Spending Analysis\n",
    "category_spend = spend.groupby('Type')['Amount'].sum().reset_index()\n",
    "category_spend.columns = ['Type', 'TotalSpend']\n",
    "print(category_spend)\n"
   ]
  },
  {
   "cell_type": "code",
   "execution_count": 25,
   "id": "65c847c0-39cd-4bc9-8848-1d482ec4231d",
   "metadata": {},
   "outputs": [
    {
     "name": "stdout",
     "output_type": "stream",
     "text": [
      "   Customer    InterestDue\n",
      "0        A1   57583.232753\n",
      "1       A10   42537.575757\n",
      "2      A100   -3157.728813\n",
      "3       A11   80296.055227\n",
      "4       A12  133412.303674\n",
      "..      ...            ...\n",
      "95      A95    7909.007232\n",
      "96      A96    6096.511125\n",
      "97      A97    -298.014150\n",
      "98      A98    -299.253523\n",
      "99      A99    3405.483407\n",
      "\n",
      "[100 rows x 2 columns]\n"
     ]
    }
   ],
   "source": [
    "# 8. Interest Due Calculation\n",
    "interest_due = spend.merge(repayment, on=['Customer', 'Month'], how='left', suffixes=('_Spend', '_Repayment'))\n",
    "\n",
    "# Fill NaN values in 'Amount_Repayment' without using inplace\n",
    "interest_due['Amount_Repayment'] = interest_due['Amount_Repayment'].fillna(0)\n",
    "\n",
    "# Calculate Interest Due\n",
    "interest_due['InterestDue'] = (interest_due['Amount_Spend'] - interest_due['Amount_Repayment']) * 0.029\n",
    "\n",
    "# Group by Customer and calculate the sum of Interest Due\n",
    "interest_due = interest_due.groupby('Customer')['InterestDue'].sum().reset_index()\n",
    "\n",
    "print(interest_due)\n"
   ]
  },
  {
   "cell_type": "code",
   "execution_count": 29,
   "id": "1c9776ba-3e04-49ed-8622-35088911a139",
   "metadata": {},
   "outputs": [
    {
     "name": "stdout",
     "output_type": "stream",
     "text": [
      "    Month        Profit\n",
      "0       1  3.349224e+06\n",
      "1       2  2.147069e+06\n",
      "2       3 -4.968624e+05\n",
      "3       4  5.540681e+05\n",
      "4       5  6.490976e+06\n",
      "5       6 -9.329240e+05\n",
      "6       7 -5.744332e+05\n",
      "7       8  4.515329e+04\n",
      "8       9 -6.207402e+05\n",
      "9      10  3.572320e+04\n",
      "10     11  3.928311e+05\n",
      "11     12 -1.298549e+06\n"
     ]
    }
   ],
   "source": [
    "# 9. Monthly profit for the bank\n",
    "monthly_profit = spend.merge(repayment, on=['Customer', 'Month'], how='left', suffixes=('_Spend', '_Repayment'))\n",
    "monthly_profit['Amount_Repayment'].fillna(0)\n",
    "monthly_profit['Profit'] = monthly_profit['Amount_Spend'] - monthly_profit['Amount_Repayment']\n",
    "monthly_profit['Month_Number'] = monthly_profit['Month'].dt.month\n",
    "monthly_profit = monthly_profit.groupby('Month_Number')['Profit'].sum().reset_index()\n",
    "monthly_profit.columns = ['Month', 'Profit']\n",
    "print(monthly_profit)"
   ]
  },
  {
   "cell_type": "code",
   "execution_count": 31,
   "id": "ba620dae-212a-47ec-afab-3ecc0220aaff",
   "metadata": {},
   "outputs": [
    {
     "data": {
      "image/png": "[encoded data removed]",
      "text/plain": [
       "<Figure size 1000x600 with 1 Axes>"
      ]
     },
     "metadata": {},
     "output_type": "display_data"
    }
   ],
   "source": [
    "# Data Visualization\n",
    "plt.figure(figsize=(10, 6))\n",
    "plt.bar(monthly_spend['Month'], monthly_spend['TotalSpend'], color='blue')\n",
    "plt.xlabel('Month')\n",
    "plt.ylabel('Total Spend')\n",
    "plt.title('Monthly Spend of Each Customer')\n",
    "plt.show()"
   ]
  },
  {
   "cell_type": "code",
   "execution_count": null,
   "id": "3c8ba96f-36de-4388-9546-e0d84b55e941",
   "metadata": {},
   "outputs": [],
   "source": []
  }
 ],
 "metadata": {
  "kernelspec": {
   "display_name": "Python 3 (ipykernel)",
   "language": "python",
   "name": "python3"
  },
  "language_info": {
   "codemirror_mode": {
    "name": "ipython",
    "version": 3
   },
   "file_extension": ".py",
   "mimetype": "text/x-python",
   "name": "python",
   "nbconvert_exporter": "python",
   "pygments_lexer": "ipython3",
   "version": "3.12.4"
  }
 },
 "nbformat": 4,
 "nbformat_minor": 5
}
